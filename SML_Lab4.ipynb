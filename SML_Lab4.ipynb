{
  "nbformat": 4,
  "nbformat_minor": 0,
  "metadata": {
    "colab": {
      "provenance": [],
      "authorship_tag": "ABX9TyP523RJhW5c50PRcNwGnCtA",
      "include_colab_link": true
    },
    "kernelspec": {
      "name": "python3",
      "display_name": "Python 3"
    },
    "language_info": {
      "name": "python"
    }
  },
  "cells": [
    {
      "cell_type": "markdown",
      "metadata": {
        "id": "view-in-github",
        "colab_type": "text"
      },
      "source": [
        "<a href=\"https://colab.research.google.com/github/codeRisshi25/Statistical_Machine_Learning_Assignments/blob/main/SML_Lab4.ipynb\" target=\"_parent\"><img src=\"https://colab.research.google.com/assets/colab-badge.svg\" alt=\"Open In Colab\"/></a>"
      ]
    },
    {
      "cell_type": "markdown",
      "source": [
        "**LINEAR REGRESSION**"
      ],
      "metadata": {
        "id": "OKVB0YXGOAgN"
      }
    },
    {
      "cell_type": "code",
      "execution_count": 2,
      "metadata": {
        "id": "zHOpdXEcN9bC"
      },
      "outputs": [],
      "source": [
        "import pandas as pd\n",
        "import numpy as np\n",
        "df = pd.read_csv('./Salary_Data.csv')"
      ]
    },
    {
      "cell_type": "code",
      "source": [
        "print (df.head(5))"
      ],
      "metadata": {
        "colab": {
          "base_uri": "https://localhost:8080/"
        },
        "id": "y6WcA32kPev1",
        "outputId": "2fd4917f-8308-4662-b71e-71adf3608907"
      },
      "execution_count": 3,
      "outputs": [
        {
          "output_type": "stream",
          "name": "stdout",
          "text": [
            "   YearsExperience   Salary\n",
            "0              1.1  39343.0\n",
            "1              1.3  46205.0\n",
            "2              1.5  37731.0\n",
            "3              NaN  43525.0\n",
            "4              2.2  39891.0\n"
          ]
        }
      ]
    },
    {
      "cell_type": "code",
      "source": [
        "print(df.isnull().count())"
      ],
      "metadata": {
        "colab": {
          "base_uri": "https://localhost:8080/"
        },
        "id": "fVl_pdyLPj0p",
        "outputId": "b088e590-c8ef-4050-d4f7-02a948a03985"
      },
      "execution_count": 4,
      "outputs": [
        {
          "output_type": "stream",
          "name": "stdout",
          "text": [
            "YearsExperience    30\n",
            "Salary             30\n",
            "dtype: int64\n"
          ]
        }
      ]
    },
    {
      "cell_type": "code",
      "source": [
        "df['YearsExperience'].fillna(df['YearsExperience'].mean(), inplace=True)\n",
        "df['Salary'].fillna(df['Salary'].mean(), inplace=True)\n",
        "print(df.head(15))"
      ],
      "metadata": {
        "colab": {
          "base_uri": "https://localhost:8080/"
        },
        "id": "_VFUUY7OTSjG",
        "outputId": "e5580e2b-7432-4a36-99df-4b8cab211b12"
      },
      "execution_count": 5,
      "outputs": [
        {
          "output_type": "stream",
          "name": "stdout",
          "text": [
            "    YearsExperience        Salary\n",
            "0          1.100000  39343.000000\n",
            "1          1.300000  46205.000000\n",
            "2          1.500000  37731.000000\n",
            "3          5.288889  43525.000000\n",
            "4          2.200000  39891.000000\n",
            "5          2.900000  56642.000000\n",
            "6          3.000000  75773.821429\n",
            "7          3.200000  54445.000000\n",
            "8          3.200000  64445.000000\n",
            "9          3.700000  57189.000000\n",
            "10         3.900000  63218.000000\n",
            "11         4.000000  55794.000000\n",
            "12         4.000000  56957.000000\n",
            "13         4.100000  57081.000000\n",
            "14         4.500000  61111.000000\n"
          ]
        }
      ]
    },
    {
      "cell_type": "code",
      "source": [
        "mean = df.mean()\n",
        "median = df.median()\n",
        "std = df.std()\n",
        "stats_df = pd.DataFrame({\n",
        "    'Mean': mean,\n",
        "    'Median': median,\n",
        "    'Standard Deviation': std\n",
        "})\n",
        "\n",
        "# Print the result\n",
        "print(stats_df)"
      ],
      "metadata": {
        "colab": {
          "base_uri": "https://localhost:8080/"
        },
        "id": "vebN8UARTsLt",
        "outputId": "7c08a2cf-9306-48ba-d676-5e11b21fa717"
      },
      "execution_count": 6,
      "outputs": [
        {
          "output_type": "stream",
          "name": "stdout",
          "text": [
            "                         Mean        Median  Standard Deviation\n",
            "YearsExperience      5.288889      5.094444            2.658666\n",
            "Salary           75773.821429  66983.500000        26939.419076\n"
          ]
        }
      ]
    },
    {
      "cell_type": "code",
      "source": [
        "from sklearn.model_selection import train_test_split\n",
        "\n",
        "x = df[['YearsExperience']]\n",
        "y = df['Salary']\n",
        "\n",
        "x_train, x_test, y_train, y_test = train_test_split(x, y, test_size=0.2, random_state=42)\n",
        "\n",
        "print (x_test,\" \\n\\n\",y_test)\n"
      ],
      "metadata": {
        "colab": {
          "base_uri": "https://localhost:8080/"
        },
        "id": "sMI4FCUdagVi",
        "outputId": "c6329570-2f22-481f-c16b-30b3bfb69d2f"
      },
      "execution_count": 7,
      "outputs": [
        {
          "output_type": "stream",
          "name": "stdout",
          "text": [
            "    YearsExperience\n",
            "27              9.6\n",
            "15              4.9\n",
            "23              8.2\n",
            "17              5.3\n",
            "8               3.2\n",
            "9               3.7  \n",
            "\n",
            " 27    112635.0\n",
            "15     67938.0\n",
            "23    113812.0\n",
            "17     83088.0\n",
            "8      64445.0\n",
            "9      57189.0\n",
            "Name: Salary, dtype: float64\n"
          ]
        }
      ]
    },
    {
      "cell_type": "code",
      "source": [
        "import matplotlib.pyplot as plt\n",
        "\n",
        "plt.scatter(x_train,y_train,color=\"green\",label=\"Training Data\")\n",
        "plt.xlabel(\"Years of Experience\")\n",
        "plt.ylabel(\"Income\")\n",
        "plt.legend()\n",
        "plt.show()"
      ],
      "metadata": {
        "colab": {
          "base_uri": "https://localhost:8080/",
          "height": 449
        },
        "id": "LUu1mKkncXTr",
        "outputId": "dbb9d57a-6912-4e9b-c586-0185fb35d5fc"
      },
      "execution_count": 8,
      "outputs": [
        {
          "output_type": "display_data",
          "data": {
            "text/plain": [
              "<Figure size 640x480 with 1 Axes>"
            ],
            "image/png": "[encoded data removed]"
          },
          "metadata": {}
        }
      ]
    },
    {
      "cell_type": "code",
      "source": [
        "x_train_mean = x_train.mean().YearsExperience\n",
        "y_train_mean = y_train.mean()\n",
        "\n",
        "# Calculate sum of squared differences for x\n",
        "sum_sq_diff_x = ((x_train - x_train_mean)**2).sum().YearsExperience\n",
        "\n",
        "# Calculate sum of product of differences for x and y\n",
        "sum_prod_diff = ((x_train - x_train_mean).YearsExperience * (y_train - y_train_mean)).sum()\n",
        "\n",
        "# Calculate slope (b1) and constant (b0)\n",
        "slope = sum_prod_diff / sum_sq_diff_x\n",
        "constant = y_train_mean - slope * x_train_mean\n",
        "\n",
        "# Print constant (intercept)\n",
        "print(f\"Intercept (Constant): {constant}\")\n",
        "\n",
        "# Get user input for years of experience and calculate the expected salary\n",
        "x = float(input(\"Enter years of Experience: \"))\n",
        "y = slope * x + constant\n",
        "print(f\"Expected Salary: {y}\")"
      ],
      "metadata": {
        "colab": {
          "base_uri": "https://localhost:8080/"
        },
        "id": "KNcLzzJud_93",
        "outputId": "4795873a-4a59-4fd3-8e19-c5fdd370a8b8"
      },
      "execution_count": 11,
      "outputs": [
        {
          "output_type": "stream",
          "name": "stdout",
          "text": [
            "Intercept (Constant): 28013.787675495827\n",
            "Enter years of Experience: 9.6\n",
            "Expected Salary: 113473.44313734068\n"
          ]
        }
      ]
    },
    {
      "cell_type": "code",
      "source": [
        "prediction_df = pd.DataFrame({'YearsExperience': x_test['YearsExperience'], 'Actual Salary': y_test, 'Predicted Salary': slope * x_test['YearsExperience'] + constant})\n",
        "\n",
        "print(prediction_df)\n"
      ],
      "metadata": {
        "colab": {
          "base_uri": "https://localhost:8080/"
        },
        "id": "KV_w9ilI6qXq",
        "outputId": "6e18df75-d4b5-47fc-933a-baa53f45cca6"
      },
      "execution_count": 12,
      "outputs": [
        {
          "output_type": "stream",
          "name": "stdout",
          "text": [
            "    YearsExperience  Actual Salary  Predicted Salary\n",
            "27              9.6       112635.0     113473.443137\n",
            "15              4.9        67938.0      71633.820151\n",
            "23              8.2       113812.0     101010.576716\n",
            "17              5.3        83088.0      75194.639128\n",
            "8               3.2        64445.0      56500.339496\n",
            "9               3.7        57189.0      60951.363218\n"
          ]
        }
      ]
    },
    {
      "cell_type": "code",
      "source": [
        "from sklearn.metrics import mean_squared_error, r2_score\n",
        "\n",
        "mse = mean_squared_error(y_test, prediction_df['Predicted Salary'])\n",
        "print(f\"Mean Squared Error (MSE): {mse}\")\n",
        "\n",
        "r2 = r2_score(y_test, prediction_df['Predicted Salary'])\n",
        "print(f\"R-squared Score: {r2}\")\n"
      ],
      "metadata": {
        "colab": {
          "base_uri": "https://localhost:8080/"
        },
        "id": "2w4aw_nY7qBz",
        "outputId": "57f252e8-6de6-4c81-86cd-7575cb9154d9"
      },
      "execution_count": 13,
      "outputs": [
        {
          "output_type": "stream",
          "name": "stdout",
          "text": [
            "Mean Squared Error (MSE): 52969444.15645271\n",
            "R-squared Score: 0.8963001863623629\n"
          ]
        }
      ]
    },
    {
      "cell_type": "markdown",
      "source": [
        "SECTION 2"
      ],
      "metadata": {
        "id": "naWfbsa989u0"
      }
    },
    {
      "cell_type": "code",
      "source": [
        "from sklearn.linear_model import LinearRegression\n",
        "model = LinearRegression()\n",
        "\n",
        "model.fit(x_train,y_train)\n",
        "\n",
        "y_pred = model.predict(x_test)\n",
        "\n",
        "mse = mean_squared_error(y_test, y_pred)\n",
        "r2 = r2_score(y_test, y_pred)\n",
        "\n",
        "print(f\"Mean Squared Error (MSE): {mse}\")\n",
        "print(f\"R-squared Score: {r2}\")\n",
        "\n",
        "# Get the coefficients (slope) and intercept (constant)\n",
        "slope = model.coef_[0]\n",
        "constant = model.intercept_\n",
        "\n",
        "print(f\"Slope (Coefficient): {slope}\")\n",
        "print(f\"Intercept (Constant): {constant}\")\n",
        "\n",
        "# Plotting the results\n",
        "plt.figure(figsize=(10, 6))\n",
        "\n",
        "# Plot training data\n",
        "plt.scatter(x_train['YearsExperience'], y_train, color='blue', label='Training Data')\n",
        "\n",
        "# Plot test data\n",
        "plt.scatter(x_test['YearsExperience'], y_test, color='orange', label='Test Data')\n",
        "\n",
        "# Plot predictions on test data\n",
        "plt.scatter(x_test['YearsExperience'], y_pred, color='red', label='Predicted Values')\n",
        "\n",
        "# Plot regression line\n",
        "x_line = np.linspace(\n",
        "    min(x_train['YearsExperience'].min(), x_test['YearsExperience'].min()),\n",
        "    max(x_train['YearsExperience'].max(), x_test['YearsExperience'].max()),\n",
        "    100\n",
        ")\n",
        "y_line = model.predict(x_line.reshape(-1, 1))\n",
        "plt.plot(x_line, y_line, color='green', linestyle='--', label='Regression Line')\n",
        "\n",
        "# Labels and title\n",
        "plt.xlabel('Years of Experience')\n",
        "plt.ylabel('Salary')\n",
        "plt.title('Linear Regression using Scikit-learn')\n",
        "plt.legend()\n",
        "\n",
        "# Show plot\n",
        "plt.show()"
      ],
      "metadata": {
        "colab": {
          "base_uri": "https://localhost:8080/",
          "height": 694
        },
        "id": "-a7j-ugT8-71",
        "outputId": "f059cf7d-1cc0-4d82-ca09-c552e3f16fe5"
      },
      "execution_count": 16,
      "outputs": [
        {
          "output_type": "stream",
          "name": "stdout",
          "text": [
            "Mean Squared Error (MSE): 52969444.15645272\n",
            "R-squared Score: 0.8963001863623627\n",
            "Slope (Coefficient): 8902.047443942174\n",
            "Intercept (Constant): 28013.78767549582\n"
          ]
        },
        {
          "output_type": "stream",
          "name": "stderr",
          "text": [
            "/usr/local/lib/python3.10/dist-packages/sklearn/base.py:465: UserWarning: X does not have valid feature names, but LinearRegression was fitted with feature names\n",
            "  warnings.warn(\n"
          ]
        },
        {
          "output_type": "display_data",
          "data": {
            "text/plain": [
              "<Figure size 1000x600 with 1 Axes>"
            ],
            "image/png": "[encoded data removed]"
          },
          "metadata": {}
        }
      ]
    },
    {
      "cell_type": "code",
      "source": [
        "# prompt: Compare both outcomes from without inbuilt function (section 1) and using inbuilt\n",
        "# function.\n",
        "\n",
        "print(f\"Manual Calculation - Slope (Coefficient): {slope}\")\n",
        "print(f\"Manual Calculation - Intercept (Constant): {constant}\")\n",
        "print(f\"Scikit-learn - Slope (Coefficient): {model.coef_[0]}\")\n",
        "print(f\"Scikit-learn - Intercept (Constant): {model.intercept_}\")\n",
        "\n",
        "print(f\"Manual Calculation - Mean Squared Error (MSE): {mse}\")\n",
        "print(f\"Scikit-learn - Mean Squared Error (MSE): {mean_squared_error(y_test, y_pred)}\")\n",
        "\n",
        "print(f\"Manual Calculation - R-squared Score: {r2}\")\n",
        "print(f\"Scikit-learn - R-squared Score: {r2_score(y_test, y_pred)}\")\n"
      ],
      "metadata": {
        "colab": {
          "base_uri": "https://localhost:8080/"
        },
        "id": "OHsRdlb0_Ua0",
        "outputId": "dc04b140-d7dd-49ba-9651-a601d698340e"
      },
      "execution_count": 17,
      "outputs": [
        {
          "output_type": "stream",
          "name": "stdout",
          "text": [
            "Manual Calculation - Slope (Coefficient): 8902.047443942174\n",
            "Manual Calculation - Intercept (Constant): 28013.78767549582\n",
            "Scikit-learn - Slope (Coefficient): 8902.047443942174\n",
            "Scikit-learn - Intercept (Constant): 28013.78767549582\n",
            "Manual Calculation - Mean Squared Error (MSE): 52969444.15645272\n",
            "Scikit-learn - Mean Squared Error (MSE): 52969444.15645272\n",
            "Manual Calculation - R-squared Score: 0.8963001863623627\n",
            "Scikit-learn - R-squared Score: 0.8963001863623627\n"
          ]
        }
      ]
    }
  ]
}