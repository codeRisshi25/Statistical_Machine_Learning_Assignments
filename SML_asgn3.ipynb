{
  "nbformat": 4,
  "nbformat_minor": 0,
  "metadata": {
    "colab": {
      "provenance": [],
      "authorship_tag": "ABX9TyM9fhB3P5pdxhAUNDRG4rfQ",
      "include_colab_link": true
    },
    "kernelspec": {
      "name": "python3",
      "display_name": "Python 3"
    },
    "language_info": {
      "name": "python"
    }
  },
  "cells": [
    {
      "cell_type": "markdown",
      "metadata": {
        "id": "view-in-github",
        "colab_type": "text"
      },
      "source": [
        "<a href=\"https://colab.research.google.com/github/codeRisshi25/Statistical_Machine_Learning_Assignments/blob/main/SML_asgn3.ipynb\" target=\"_parent\"><img src=\"https://colab.research.google.com/assets/colab-badge.svg\" alt=\"Open In Colab\"/></a>"
      ]
    },
    {
      "cell_type": "markdown",
      "source": [
        "Section 1: General Data Processing Tasks\n",
        "Given a dataset data.csv with missing values. Load the CSV file and write a Python script for\n",
        "each of the following tasks:"
      ],
      "metadata": {
        "id": "Z3ktUw0NGOVX"
      }
    },
    {
      "cell_type": "markdown",
      "source": [
        "**Q1: Identify the columns with missing values**"
      ],
      "metadata": {
        "id": "jgnk0DEFG4nj"
      }
    },
    {
      "cell_type": "code",
      "execution_count": 8,
      "metadata": {
        "colab": {
          "base_uri": "https://localhost:8080/"
        },
        "id": "bOdkrD3qGJWX",
        "outputId": "e77154f1-a300-4fe4-f7df-cf9d3e8dcd02"
      },
      "outputs": [
        {
          "output_type": "stream",
          "name": "stdout",
          "text": [
            "numerical_1       True\n",
            "numerical_2       True\n",
            "categorical_1     True\n",
            "categorical_2     True\n",
            "target           False\n",
            "dtype: bool\n"
          ]
        }
      ],
      "source": [
        "import pandas as pd\n",
        "\n",
        "df = pd.read_csv('data.csv');\n",
        "print(df.isnull().any())"
      ]
    },
    {
      "cell_type": "markdown",
      "source": [
        "**Q2: Encode categorical columns categorical_1 and categorical_2 using one-hot**"
      ],
      "metadata": {
        "id": "30Z821L-HzfN"
      }
    },
    {
      "cell_type": "code",
      "source": [
        "print (df.head(11))"
      ],
      "metadata": {
        "colab": {
          "base_uri": "https://localhost:8080/"
        },
        "id": "X_7lqxfjKHnX",
        "outputId": "bc6a2f41-a4bc-4040-87df-5c4f41619cf6"
      },
      "execution_count": 9,
      "outputs": [
        {
          "output_type": "stream",
          "name": "stdout",
          "text": [
            "    numerical_1  numerical_2 categorical_1 categorical_2  target\n",
            "0           1.0         10.0             A             X       1\n",
            "1           2.0         20.0             B             Y       0\n",
            "2           NaN         30.0             A             X       1\n",
            "3           4.0         40.0           NaN             Y       0\n",
            "4           5.0         50.0             B           NaN       1\n",
            "5         100.0         60.0             A             Y       0\n",
            "6           7.0         70.0             B             X       1\n",
            "7           8.0         80.0             A             Y       0\n",
            "8           NaN         90.0             B             X       1\n",
            "9          10.0          NaN             A             Y       0\n",
            "10         10.0          NaN             A             Y       0\n"
          ]
        }
      ]
    },
    {
      "cell_type": "code",
      "source": [
        "from sklearn.preprocessing import OneHotEncoder\n",
        "\n",
        "# Sample data\n",
        "data = df[['categorical_1' , 'categorical_2']]\n",
        "\n",
        "# Create the OneHotEncoder instance\n",
        "encoder = OneHotEncoder(sparse=False)\n",
        "\n",
        "# Fit and transform the data\n",
        "encoded_data = encoder.fit_transform(data)\n",
        "\n",
        "print(encoded_data)"
      ],
      "metadata": {
        "colab": {
          "base_uri": "https://localhost:8080/"
        },
        "id": "Y-kd7GlVLARW",
        "outputId": "8fa4eeef-635e-4089-bd3f-151e8b1f52fb"
      },
      "execution_count": 28,
      "outputs": [
        {
          "output_type": "stream",
          "name": "stdout",
          "text": [
            "[[1. 0. 0. 1. 0. 0.]\n",
            " [0. 1. 0. 0. 1. 0.]\n",
            " [1. 0. 0. 1. 0. 0.]\n",
            " [0. 0. 1. 0. 1. 0.]\n",
            " [0. 1. 0. 0. 0. 1.]\n",
            " [1. 0. 0. 0. 1. 0.]\n",
            " [0. 1. 0. 1. 0. 0.]\n",
            " [1. 0. 0. 0. 1. 0.]\n",
            " [0. 1. 0. 1. 0. 0.]\n",
            " [1. 0. 0. 0. 1. 0.]\n",
            " [1. 0. 0. 0. 1. 0.]]\n"
          ]
        },
        {
          "output_type": "stream",
          "name": "stderr",
          "text": [
            "/usr/local/lib/python3.10/dist-packages/sklearn/preprocessing/_encoders.py:975: FutureWarning: `sparse` was renamed to `sparse_output` in version 1.2 and will be removed in 1.4. `sparse_output` is ignored unless you leave `sparse` to its default value.\n",
            "  warnings.warn(\n"
          ]
        }
      ]
    },
    {
      "cell_type": "markdown",
      "source": [],
      "metadata": {
        "id": "hT8SERi_Pq_d"
      }
    },
    {
      "cell_type": "code",
      "source": [
        "from sklearn.preprocessing import LabelEncoder\n",
        "\n",
        "label_encoder = LabelEncoder()\n",
        "\n",
        "df['categorical_1_encoded'] = label_encoder.fit_transform(df['categorical_1'])\n",
        "df['categorical_2_encoded'] = label_encoder.fit_transform(df['categorical_2'])\n",
        "\n",
        "print(df)"
      ],
      "metadata": {
        "colab": {
          "base_uri": "https://localhost:8080/"
        },
        "id": "pEzpKIZOPx1J",
        "outputId": "ab96d66b-9bcc-4c6b-8107-14cc16071fc8"
      },
      "execution_count": 26,
      "outputs": [
        {
          "output_type": "stream",
          "name": "stdout",
          "text": [
            "    numerical_1  numerical_2 categorical_1 categorical_2  target  \\\n",
            "0           1.0         10.0             A             X       1   \n",
            "1           2.0         20.0             B             Y       0   \n",
            "2           NaN         30.0             A             X       1   \n",
            "3           4.0         40.0           NaN             Y       0   \n",
            "4           5.0         50.0             B           NaN       1   \n",
            "5         100.0         60.0             A             Y       0   \n",
            "6           7.0         70.0             B             X       1   \n",
            "7           8.0         80.0             A             Y       0   \n",
            "8           NaN         90.0             B             X       1   \n",
            "9          10.0          NaN             A             Y       0   \n",
            "10         10.0          NaN             A             Y       0   \n",
            "\n",
            "    categorical_1_encoded  categorical_2_encoded  \n",
            "0                       0                      0  \n",
            "1                       1                      1  \n",
            "2                       0                      0  \n",
            "3                       2                      1  \n",
            "4                       1                      2  \n",
            "5                       0                      1  \n",
            "6                       1                      0  \n",
            "7                       0                      1  \n",
            "8                       1                      0  \n",
            "9                       0                      1  \n",
            "10                      0                      1  \n"
          ]
        }
      ]
    },
    {
      "cell_type": "markdown",
      "source": [
        "**Q4: Standardize numerical columns numerical_1 and numerical_2 using\n",
        "StandardScaler.**"
      ],
      "metadata": {
        "id": "zKEeq60IR3nh"
      }
    },
    {
      "cell_type": "code",
      "source": [
        "from sklearn.preprocessing import StandardScaler\n",
        "\n",
        "numerical_data = df[['numerical_1', 'numerical_2']]\n",
        "\n",
        "scaler = StandardScaler()\n",
        "\n",
        "standardized_data = scaler.fit_transform(numerical_data)\n",
        "\n",
        "standardized_df = pd.DataFrame(standardized_data, columns=['numerical_1', 'numerical_2'])\n",
        "\n",
        "df_standardized = pd.concat([df[['categorical_1', 'categorical_2']], standardized_df], axis=1)\n",
        "\n",
        "print(df_standardized)"
      ],
      "metadata": {
        "colab": {
          "base_uri": "https://localhost:8080/"
        },
        "id": "N7KqwQgdRZni",
        "outputId": "ecac952c-7d0e-4bea-c9f5-f3bd804e5478"
      },
      "execution_count": 30,
      "outputs": [
        {
          "output_type": "stream",
          "name": "stdout",
          "text": [
            "   categorical_1 categorical_2  numerical_1  numerical_2\n",
            "0              A             X    -0.515651    -1.549193\n",
            "1              B             Y    -0.482022    -1.161895\n",
            "2              A             X          NaN    -0.774597\n",
            "3            NaN             Y    -0.414763    -0.387298\n",
            "4              B           NaN    -0.381133     0.000000\n",
            "5              A             Y     2.813661     0.387298\n",
            "6              B             X    -0.313875     0.774597\n",
            "7              A             Y    -0.280245     1.161895\n",
            "8              B             X          NaN     1.549193\n",
            "9              A             Y    -0.212986          NaN\n",
            "10             A             Y    -0.212986          NaN\n"
          ]
        }
      ]
    }
  ]
}