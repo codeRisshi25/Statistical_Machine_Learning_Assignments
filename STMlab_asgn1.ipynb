{
  "nbformat": 4,
  "nbformat_minor": 0,
  "metadata": {
    "colab": {
      "provenance": [],
      "authorship_tag": "ABX9TyPw5D0MLUB1Hw28bcoBo12x",
      "include_colab_link": true
    },
    "kernelspec": {
      "name": "python3",
      "display_name": "Python 3"
    },
    "language_info": {
      "name": "python"
    }
  },
  "cells": [
    {
      "cell_type": "markdown",
      "metadata": {
        "id": "view-in-github",
        "colab_type": "text"
      },
      "source": [
        "<a href=\"https://colab.research.google.com/github/codeRisshi25/Statistical_Machine_Learning_Assignments/blob/main/STMlab_asgn1.ipynb\" target=\"_parent\"><img src=\"https://colab.research.google.com/assets/colab-badge.svg\" alt=\"Open In Colab\"/></a>"
      ]
    },
    {
      "cell_type": "markdown",
      "source": [
        "**SECTION 1 NUMPY**"
      ],
      "metadata": {
        "id": "uIpsBGlGE1LD"
      }
    },
    {
      "cell_type": "markdown",
      "source": [],
      "metadata": {
        "id": "PFfN5IslyMBk"
      }
    },
    {
      "cell_type": "code",
      "source": [],
      "metadata": {
        "id": "SylWqmb622L1"
      },
      "execution_count": null,
      "outputs": []
    },
    {
      "cell_type": "markdown",
      "source": [
        "1. Import numpy as np and check its version"
      ],
      "metadata": {
        "id": "4FupIzEJFCBh"
      }
    },
    {
      "cell_type": "code",
      "source": [
        "import numpy as np"
      ],
      "metadata": {
        "id": "5wn7byzOM_ih"
      },
      "execution_count": null,
      "outputs": []
    },
    {
      "cell_type": "code",
      "source": [
        "print(np.__version__)"
      ],
      "metadata": {
        "colab": {
          "base_uri": "https://localhost:8080/"
        },
        "id": "1WRIIijoFFy0",
        "outputId": "f371f526-d907-4059-ee0a-d011915bb19b"
      },
      "execution_count": null,
      "outputs": [
        {
          "output_type": "stream",
          "name": "stdout",
          "text": [
            "1.26.4\n"
          ]
        }
      ]
    },
    {
      "cell_type": "markdown",
      "source": [
        "2. Write a script to create a 1D array with >= 15 items and print the even numbers."
      ],
      "metadata": {
        "id": "jr0IrLokGqlP"
      }
    },
    {
      "cell_type": "code",
      "source": [
        "arr = np.arange(0,20,1)\n",
        "print ([x for x in arr if x%2==0])"
      ],
      "metadata": {
        "colab": {
          "base_uri": "https://localhost:8080/"
        },
        "id": "fPJerAciGrq5",
        "outputId": "fe5ce8e1-3737-4cdc-cf82-5b4693f32e1c"
      },
      "execution_count": null,
      "outputs": [
        {
          "output_type": "stream",
          "name": "stdout",
          "text": [
            "[0, 2, 4, 6, 8, 10, 12, 14, 16, 18]\n"
          ]
        }
      ]
    },
    {
      "cell_type": "markdown",
      "source": [
        "3. Write a script to find the mean of all the elements in a 1D array."
      ],
      "metadata": {
        "id": "otcQHQL8Kco3"
      }
    },
    {
      "cell_type": "code",
      "source": [
        "print (arr.mean())"
      ],
      "metadata": {
        "colab": {
          "base_uri": "https://localhost:8080/"
        },
        "id": "7LTvfT8FKiQW",
        "outputId": "91ac47b3-151b-435c-d22c-4a6739310934"
      },
      "execution_count": null,
      "outputs": [
        {
          "output_type": "stream",
          "name": "stdout",
          "text": [
            "9.5\n"
          ]
        }
      ]
    },
    {
      "cell_type": "markdown",
      "source": [
        "4. Write a script to create a Boolean array where values are False if the element is an even\n",
        "number."
      ],
      "metadata": {
        "id": "739qU2IdLDa8"
      }
    },
    {
      "cell_type": "code",
      "source": [
        "print (arr%2!=0)"
      ],
      "metadata": {
        "colab": {
          "base_uri": "https://localhost:8080/"
        },
        "id": "krkgxlM9LIlt",
        "outputId": "3d71835e-4f28-403a-a2ac-b976460f13e8"
      },
      "execution_count": null,
      "outputs": [
        {
          "output_type": "stream",
          "name": "stdout",
          "text": [
            "[False  True False  True False  True False  True False  True False  True\n",
            " False  True False  True False  True False  True]\n"
          ]
        }
      ]
    },
    {
      "cell_type": "markdown",
      "source": [
        "5. Write a script in numpy to reshape an array and convert a 1D array to 2D array."
      ],
      "metadata": {
        "id": "LMxA0UQ0NLiw"
      }
    },
    {
      "cell_type": "code",
      "source": [
        "print(arr.reshape(2,-2))"
      ],
      "metadata": {
        "colab": {
          "base_uri": "https://localhost:8080/"
        },
        "id": "sdVgshq2NLM0",
        "outputId": "2d701e54-226d-46c5-bdfe-599f35627aae"
      },
      "execution_count": null,
      "outputs": [
        {
          "output_type": "stream",
          "name": "stdout",
          "text": [
            "[[ 0  1  2  3  4  5  6  7  8  9]\n",
            " [10 11 12 13 14 15 16 17 18 19]]\n"
          ]
        }
      ]
    },
    {
      "cell_type": "markdown",
      "source": [
        "6. Write a script to stack two arrays vertically."
      ],
      "metadata": {
        "id": "betKIf3WOY5T"
      }
    },
    {
      "cell_type": "code",
      "source": [
        "arr1 = np.arange(0,5,1)\n",
        "arr2 = np.arange(6,11,1)\n",
        "print(np.vstack((arr1,arr2)))"
      ],
      "metadata": {
        "colab": {
          "base_uri": "https://localhost:8080/"
        },
        "id": "eUoV99VCOYeL",
        "outputId": "e71945d2-8619-4148-8b4a-3ce955fc9512"
      },
      "execution_count": null,
      "outputs": [
        {
          "output_type": "stream",
          "name": "stdout",
          "text": [
            "[[ 0  1  2  3  4]\n",
            " [ 6  7  8  9 10]]\n"
          ]
        }
      ]
    },
    {
      "cell_type": "markdown",
      "source": [
        "7. Write a script to extract the second row from a 2D array."
      ],
      "metadata": {
        "id": "TXzTFxqJPxw2"
      }
    },
    {
      "cell_type": "code",
      "source": [
        "arr2d = np.array([[1, 2, 3], [4, 5, 6], [7, 8, 9]])\n",
        "print(arr2d[1])\n"
      ],
      "metadata": {
        "colab": {
          "base_uri": "https://localhost:8080/"
        },
        "id": "PS5PN_CtP1CE",
        "outputId": "6fc3ffa0-131a-4ebc-b560-57c2c335b1a2"
      },
      "execution_count": null,
      "outputs": [
        {
          "output_type": "stream",
          "name": "stdout",
          "text": [
            "[4 5 6]\n"
          ]
        }
      ]
    },
    {
      "cell_type": "markdown",
      "source": [],
      "metadata": {
        "id": "hcYE1bgkRf1b"
      }
    },
    {
      "cell_type": "markdown",
      "source": [
        "8. Write a script to add 1 to each element in a 2D array."
      ],
      "metadata": {
        "id": "5zH5N6OpQhj6"
      }
    },
    {
      "cell_type": "code",
      "source": [
        "print(arr2d + 1)"
      ],
      "metadata": {
        "id": "G2FAtpHhQlOz"
      },
      "execution_count": null,
      "outputs": []
    },
    {
      "cell_type": "markdown",
      "source": [
        "9. Write a script to perform matrix multiplication between two 2D array"
      ],
      "metadata": {
        "id": "mlAoow1BQ6eL"
      }
    },
    {
      "cell_type": "code",
      "source": [
        "arr3 = np.array([[10, 11, 12], [13, 14, 15], [16, 17, 18]])\n",
        "print(np.dot(arr2d, arr3))"
      ],
      "metadata": {
        "colab": {
          "base_uri": "https://localhost:8080/"
        },
        "id": "MMwXnA36Q-IJ",
        "outputId": "02fb38c8-28a4-4886-c8b5-5eaf02cc30fe"
      },
      "execution_count": null,
      "outputs": [
        {
          "output_type": "stream",
          "name": "stdout",
          "text": [
            "[[ 84  90  96]\n",
            " [201 216 231]\n",
            " [318 342 366]]\n"
          ]
        }
      ]
    },
    {
      "cell_type": "markdown",
      "source": [
        "10. Write a script to remove items from one array that are present in another array."
      ],
      "metadata": {
        "id": "bLrsGqWYRDdk"
      }
    },
    {
      "cell_type": "code",
      "source": [
        "arr4 = np.array([1, 2, 3, 4, 5])\n",
        "arr5 = np.array([3, 5])\n",
        "print(np.setdiff1d(arr4, arr5))"
      ],
      "metadata": {
        "colab": {
          "base_uri": "https://localhost:8080/"
        },
        "id": "0IWbFhCqRGui",
        "outputId": "1876b080-067c-4856-fed5-722b676d2432"
      },
      "execution_count": null,
      "outputs": [
        {
          "output_type": "stream",
          "name": "stdout",
          "text": [
            "[1 2 4]\n"
          ]
        }
      ]
    },
    {
      "cell_type": "markdown",
      "source": [
        "11. Write a script to find the positions where elements of two arrays match"
      ],
      "metadata": {
        "id": "WJGlh5-cRJf-"
      }
    },
    {
      "cell_type": "code",
      "source": [
        "arr6 = np.array([1, 2, 3, 4, 5])\n",
        "arr7 = np.array([3, 1, 5])\n",
        "print(np.where(np.in1d(arr6, arr7))[0])"
      ],
      "metadata": {
        "colab": {
          "base_uri": "https://localhost:8080/"
        },
        "id": "L7U-VhB0RMi5",
        "outputId": "03d8d40e-b731-4c40-aeea-adcb02bb11cf"
      },
      "execution_count": null,
      "outputs": [
        {
          "output_type": "stream",
          "name": "stdout",
          "text": [
            "[0 2 4]\n"
          ]
        }
      ]
    },
    {
      "cell_type": "markdown",
      "source": [
        "12. Import a dataset using numpy keeping the text intact and print the first three rows."
      ],
      "metadata": {
        "id": "Sv3OldAPRQZW"
      }
    },
    {
      "cell_type": "code",
      "source": [
        "from numpy import genfromtxt\n",
        "data = genfromtxt('log.csv', delimiter=',', dtype=None, encoding=None)\n",
        "print(data[:3])"
      ],
      "metadata": {
        "colab": {
          "base_uri": "https://localhost:8080/"
        },
        "id": "0U1J1yk4RWvm",
        "outputId": "d4337ea0-af00-4aae-cc9f-3d5386c58001"
      },
      "execution_count": null,
      "outputs": [
        {
          "output_type": "stream",
          "name": "stdout",
          "text": [
            "[['id' 'title' 'author' 'format' 'price']\n",
            " ['1' '\"The Adventures of Duck and Goose\"' '\"Sir Quackalot\"' 'paperback'\n",
            "  '10.99']\n",
            " ['2' '\"The Return of Duck and Goose\"' '\"Sir Quackalot\"' 'paperback'\n",
            "  '19.99']]\n"
          ]
        }
      ]
    },
    {
      "cell_type": "markdown",
      "source": [
        "**SECTION 2 PANDAS**"
      ],
      "metadata": {
        "id": "wcpTWRVVZObf"
      }
    },
    {
      "cell_type": "markdown",
      "source": [
        "1.Write a script that reads a csv file from a specified source and print the first 10 rows\n",
        "using the pandas package."
      ],
      "metadata": {
        "id": "oUpZyVGiZTVZ"
      }
    },
    {
      "cell_type": "code",
      "source": [
        "import pandas as pd\n",
        "\n",
        "df = pd.read_csv('https://raw.githubusercontent.com/mwaskom/seaborn-data/master/diamonds.csv');\n",
        "print (df.head(10))"
      ],
      "metadata": {
        "colab": {
          "base_uri": "https://localhost:8080/"
        },
        "id": "8v4CpNNeZS8k",
        "outputId": "735b6914-9e9b-427c-b2b1-910ea744f814"
      },
      "execution_count": null,
      "outputs": [
        {
          "output_type": "stream",
          "name": "stdout",
          "text": [
            "   carat        cut color clarity  depth  table  price     x     y     z\n",
            "0   0.23      Ideal     E     SI2   61.5   55.0    326  3.95  3.98  2.43\n",
            "1   0.21    Premium     E     SI1   59.8   61.0    326  3.89  3.84  2.31\n",
            "2   0.23       Good     E     VS1   56.9   65.0    327  4.05  4.07  2.31\n",
            "3   0.29    Premium     I     VS2   62.4   58.0    334  4.20  4.23  2.63\n",
            "4   0.31       Good     J     SI2   63.3   58.0    335  4.34  4.35  2.75\n",
            "5   0.24  Very Good     J    VVS2   62.8   57.0    336  3.94  3.96  2.48\n",
            "6   0.24  Very Good     I    VVS1   62.3   57.0    336  3.95  3.98  2.47\n",
            "7   0.26  Very Good     H     SI1   61.9   55.0    337  4.07  4.11  2.53\n",
            "8   0.22       Fair     E     VS2   65.1   61.0    337  3.87  3.78  2.49\n",
            "9   0.23  Very Good     H     VS1   59.4   61.0    338  4.00  4.05  2.39\n"
          ]
        }
      ]
    },
    {
      "cell_type": "markdown",
      "source": [
        "2.Write a script to select a particular series from Diamonds Dataframe. Print the content of\n",
        "the series."
      ],
      "metadata": {
        "id": "3doLRUvJapbY"
      }
    },
    {
      "cell_type": "code",
      "source": [
        "print (df['cut'])"
      ],
      "metadata": {
        "colab": {
          "base_uri": "https://localhost:8080/"
        },
        "id": "snvAlIUOa6Yc",
        "outputId": "21970087-3f50-4799-9cbb-9eea8bbc4482"
      },
      "execution_count": null,
      "outputs": [
        {
          "output_type": "stream",
          "name": "stdout",
          "text": [
            "0            Ideal\n",
            "1          Premium\n",
            "2             Good\n",
            "3          Premium\n",
            "4             Good\n",
            "           ...    \n",
            "53935        Ideal\n",
            "53936         Good\n",
            "53937    Very Good\n",
            "53938      Premium\n",
            "53939        Ideal\n",
            "Name: cut, Length: 53940, dtype: object\n"
          ]
        }
      ]
    },
    {
      "cell_type": "markdown",
      "source": [
        "3. Create a new series ‘Quality-merge’ by combining any two columns of the DataFrame"
      ],
      "metadata": {
        "id": "PYZwohOCcIGh"
      }
    },
    {
      "cell_type": "code",
      "source": [
        "df['Quality-merge'] = df['cut'] + ', ' + df['color']\n",
        "print(df['Quality-merge'])"
      ],
      "metadata": {
        "colab": {
          "base_uri": "https://localhost:8080/"
        },
        "id": "YwE7G4PFcN-n",
        "outputId": "8aa00090-bf0c-4a14-cdbb-13f88c7547b6"
      },
      "execution_count": null,
      "outputs": [
        {
          "output_type": "stream",
          "name": "stdout",
          "text": [
            "0            Ideal, E\n",
            "1          Premium, E\n",
            "2             Good, E\n",
            "3          Premium, I\n",
            "4             Good, J\n",
            "             ...     \n",
            "53935        Ideal, D\n",
            "53936         Good, D\n",
            "53937    Very Good, D\n",
            "53938      Premium, H\n",
            "53939        Ideal, D\n",
            "Name: Quality-merge, Length: 53940, dtype: object\n"
          ]
        }
      ]
    },
    {
      "cell_type": "markdown",
      "source": [
        "4. Write a script to determine the number of rows and columns with the datatypes of each\n",
        "column in the diamonds DataFrame."
      ],
      "metadata": {
        "id": "iGUnj3iCct7A"
      }
    },
    {
      "cell_type": "code",
      "source": [
        "print(df.shape)\n",
        "print(df.dtypes)"
      ],
      "metadata": {
        "colab": {
          "base_uri": "https://localhost:8080/"
        },
        "id": "k270Kgb1fG9u",
        "outputId": "c573f580-ea29-430e-af09-f05ffeb3c9c6"
      },
      "execution_count": null,
      "outputs": [
        {
          "output_type": "stream",
          "name": "stdout",
          "text": [
            "(53940, 11)\n",
            "carat            float64\n",
            "cut               object\n",
            "color             object\n",
            "clarity           object\n",
            "depth            float64\n",
            "table            float64\n",
            "price              int64\n",
            "x                float64\n",
            "y                float64\n",
            "z                float64\n",
            "Quality-merge     object\n",
            "dtype: object\n"
          ]
        }
      ]
    },
    {
      "cell_type": "markdown",
      "source": [
        "5. Write a script to summarize only the diamonds DataFrame ‘object’ column."
      ],
      "metadata": {
        "id": "qAHJ20Rbe8bH"
      }
    },
    {
      "cell_type": "code",
      "source": [
        "# prompt: select the column with datatype object and describe it\n",
        "\n",
        "print(df.describe(include=object))\n"
      ],
      "metadata": {
        "colab": {
          "base_uri": "https://localhost:8080/"
        },
        "id": "w5sxGAGxe9Y6",
        "outputId": "880bb4fb-49dd-40aa-e7a1-30afdd2bf4d9"
      },
      "execution_count": null,
      "outputs": [
        {
          "output_type": "stream",
          "name": "stdout",
          "text": [
            "          cut  color clarity Quality-merge\n",
            "count   53940  53940   53940         53940\n",
            "unique      5      7       8            35\n",
            "top     Ideal      G     SI1      Ideal, G\n",
            "freq    21551  11292   13065          4884\n"
          ]
        }
      ]
    },
    {
      "cell_type": "markdown",
      "source": [
        "6. Write a script to count the number of missing values in each Series of diamonds\n",
        "Dataframe."
      ],
      "metadata": {
        "id": "IQV0UjiLgDWL"
      }
    },
    {
      "cell_type": "code",
      "source": [
        "print(df.isnull().sum())"
      ],
      "metadata": {
        "colab": {
          "base_uri": "https://localhost:8080/"
        },
        "id": "gXyYmMIugDEe",
        "outputId": "81edfb1c-e6f9-4d92-edc0-7890df32fe15"
      },
      "execution_count": null,
      "outputs": [
        {
          "output_type": "stream",
          "name": "stdout",
          "text": [
            "carat            0\n",
            "cut              0\n",
            "color            0\n",
            "clarity          0\n",
            "depth            0\n",
            "table            0\n",
            "price            0\n",
            "x                0\n",
            "y                0\n",
            "z                0\n",
            "Quality-merge    0\n",
            "dtype: int64\n"
          ]
        }
      ]
    },
    {
      "cell_type": "markdown",
      "source": [
        "7. Write a script to drop a row if any or all values in a row are missing from diamonds\n",
        "Dataframe on two specific columns."
      ],
      "metadata": {
        "id": "9En2eFMbgnIO"
      }
    },
    {
      "cell_type": "code",
      "source": [
        "df = df.dropna(subset=['cut', 'color'])\n",
        "print(df)\n"
      ],
      "metadata": {
        "colab": {
          "base_uri": "https://localhost:8080/"
        },
        "id": "WC26csiFg1L8",
        "outputId": "20194dd8-a784-4ca3-d7c3-dcc2d62b322d"
      },
      "execution_count": null,
      "outputs": [
        {
          "output_type": "stream",
          "name": "stdout",
          "text": [
            "       carat        cut color clarity  depth  table  price     x     y     z  \\\n",
            "0       0.23      Ideal     E     SI2   61.5   55.0    326  3.95  3.98  2.43   \n",
            "1       0.21    Premium     E     SI1   59.8   61.0    326  3.89  3.84  2.31   \n",
            "2       0.23       Good     E     VS1   56.9   65.0    327  4.05  4.07  2.31   \n",
            "3       0.29    Premium     I     VS2   62.4   58.0    334  4.20  4.23  2.63   \n",
            "4       0.31       Good     J     SI2   63.3   58.0    335  4.34  4.35  2.75   \n",
            "...      ...        ...   ...     ...    ...    ...    ...   ...   ...   ...   \n",
            "53935   0.72      Ideal     D     SI1   60.8   57.0   2757  5.75  5.76  3.50   \n",
            "53936   0.72       Good     D     SI1   63.1   55.0   2757  5.69  5.75  3.61   \n",
            "53937   0.70  Very Good     D     SI1   62.8   60.0   2757  5.66  5.68  3.56   \n",
            "53938   0.86    Premium     H     SI2   61.0   58.0   2757  6.15  6.12  3.74   \n",
            "53939   0.75      Ideal     D     SI2   62.2   55.0   2757  5.83  5.87  3.64   \n",
            "\n",
            "      Quality-merge  \n",
            "0          Ideal, E  \n",
            "1        Premium, E  \n",
            "2           Good, E  \n",
            "3        Premium, I  \n",
            "4           Good, J  \n",
            "...             ...  \n",
            "53935      Ideal, D  \n",
            "53936       Good, D  \n",
            "53937  Very Good, D  \n",
            "53938    Premium, H  \n",
            "53939      Ideal, D  \n",
            "\n",
            "[53940 rows x 11 columns]\n"
          ]
        }
      ]
    }
  ]
}